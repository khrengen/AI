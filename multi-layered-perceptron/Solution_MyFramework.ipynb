{
 "cells": [
  {
   "cell_type": "markdown",
   "metadata": {},
   "source": [
    "## Лабораторная работа по курсу \"Искусственный интеллект\"\n",
    "## Многослойный персептрон\n",
    "\n",
    "| Студент | Хренов |\n",
    "|---------|--------|\n",
    "| Группа  | 307      |\n",
    "\n",
    "Для начала, скачаем датасет MNIST. Используйте `wget` или `curl`, либо скачайте вручную [по ссылке](https://raw.githubusercontent.com/shwars/NeuroWorkshop/master/Data/MNIST/mnist.pkl.gz)."
   ]
  },
  {
   "cell_type": "code",
   "execution_count": 1,
   "metadata": {
    "scrolled": true,
    "tags": []
   },
   "outputs": [],
   "source": [
    "#!wget https://raw.githubusercontent.com/shwars/NeuroWorkshop/master/Data/MNIST/mnist.pkl.gz\n",
    "#!curl -o mnist.pkl.gz https://raw.githubusercontent.com/shwars/NeuroWorkshop/master/Data/MNIST/mnist.pkl.gz\n",
    "#!gzip -d mnist.pkl.gz"
   ]
  },
  {
   "cell_type": "markdown",
   "metadata": {},
   "source": [
    "Теперь загружаем датасет:"
   ]
  },
  {
   "cell_type": "code",
   "execution_count": 2,
   "metadata": {},
   "outputs": [],
   "source": [
    "import pickle\n",
    "with open('mnist.pkl','rb') as f:\n",
    "    MNIST = pickle.load(f)"
   ]
  },
  {
   "cell_type": "code",
   "execution_count": 3,
   "metadata": {},
   "outputs": [],
   "source": [
    "labels = MNIST['Train']['Labels']\n",
    "data = MNIST['Train']['Features']"
   ]
  },
  {
   "cell_type": "markdown",
   "metadata": {},
   "source": [
    "Смотрим на то, какие данные получились:"
   ]
  },
  {
   "cell_type": "code",
   "execution_count": 4,
   "metadata": {},
   "outputs": [
    {
     "data": {
      "text/plain": [
       "(42000, 784)"
      ]
     },
     "execution_count": 4,
     "metadata": {},
     "output_type": "execute_result"
    }
   ],
   "source": [
    "data.shape"
   ]
  },
  {
   "cell_type": "markdown",
   "metadata": {},
   "source": [
    "Используйте Scikit Learn для разбиения данных на обучающую и тестовую выборку"
   ]
  },
  {
   "cell_type": "code",
   "execution_count": 5,
   "metadata": {},
   "outputs": [],
   "source": [
    "from sklearn.model_selection import train_test_split\n",
    "from sklearn.datasets import make_classification\n",
    "import numpy as np\n",
    "import matplotlib.pyplot as plt\n",
    "X_train, X_test, y_train, y_test = train_test_split(data, labels, test_size=0.33, random_state=42)"
   ]
  },
  {
   "cell_type": "markdown",
   "metadata": {},
   "source": [
    "Реализация персептрона"
   ]
  },
  {
   "cell_type": "code",
   "execution_count": 6,
   "metadata": {},
   "outputs": [],
   "source": [
    "class Linear:\n",
    "    def __init__(self,nin,nout):\n",
    "        self.W = np.random.normal(0, 1.0/np.sqrt(nin), (nout, nin))\n",
    "        self.b = np.zeros((1,nout))\n",
    "        self.dW = np.zeros_like(self.W)\n",
    "        self.db = np.zeros_like(self.b)\n",
    "        \n",
    "    def forward(self, x):\n",
    "        self.x=x\n",
    "        return np.dot(x, self.W.T) + self.b\n",
    "    \n",
    "    def backward(self, dz):\n",
    "        dx = np.dot(dz, self.W)\n",
    "        dW = np.dot(dz.T, self.x)\n",
    "        db = dz.sum(axis=0)\n",
    "        self.dW = dW\n",
    "        self.db = db\n",
    "        return dx\n",
    "    \n",
    "    def update(self,lr):\n",
    "        self.W -= lr*self.dW\n",
    "        self.b -= lr*self.db\n",
    "        \n",
    "class Tanh:\n",
    "    def forward(self,x):\n",
    "        y = np.tanh(x)\n",
    "        self.y = y\n",
    "        return y\n",
    "    def backward(self,dy):\n",
    "        return (1.0-self.y**2)*dy"
   ]
  },
  {
   "cell_type": "code",
   "execution_count": 7,
   "metadata": {},
   "outputs": [],
   "source": [
    "class Softmax:\n",
    "    def forward(self,z):\n",
    "        self.z = z\n",
    "        zmax = z.max(axis=1,keepdims=True)\n",
    "        expz = np.exp(z-zmax)\n",
    "        Z = expz.sum(axis=1,keepdims=True)\n",
    "        return expz / Z\n",
    "    def backward(self,dp):\n",
    "        p = self.forward(self.z)\n",
    "        pdp = p * dp\n",
    "        return pdp - p * pdp.sum(axis=1, keepdims=True)\n",
    "    \n",
    "class CrossEntropyLoss:\n",
    "    def forward(self,p,y):\n",
    "        self.p = p\n",
    "        self.y = y\n",
    "        p_of_y = p[np.arange(len(y)), y]\n",
    "        log_prob = np.log(p_of_y)\n",
    "        return -log_prob.mean()\n",
    "    \n",
    "    def backward(self,loss):\n",
    "        dlog_softmax = np.zeros_like(self.p)\n",
    "        dlog_softmax[np.arange(len(self.y)), self.y] -= 1.0/len(self.y)\n",
    "        return dlog_softmax / self.p"
   ]
  },
  {
   "cell_type": "code",
   "execution_count": 30,
   "metadata": {},
   "outputs": [],
   "source": [
    "class Net:\n",
    "    def __init__(self):\n",
    "        self.layers = []\n",
    "    \n",
    "    def add(self,l):\n",
    "        self.layers.append(l)\n",
    "        \n",
    "    def forward(self,x):\n",
    "        for l in self.layers:\n",
    "            x = l.forward(x)\n",
    "        return x\n",
    "    \n",
    "    def backward(self,z):\n",
    "        for l in self.layers[::-1]:\n",
    "            z = l.backward(z)\n",
    "        return z\n",
    "    \n",
    "    def update(self,lr):\n",
    "        for l in self.layers:\n",
    "            if 'update' in l.__dir__():\n",
    "                l.update(lr)\n",
    "                \n",
    "    def get_loss_acc(self,x,y,loss=CrossEntropyLoss()):\n",
    "        p = self.forward(x)\n",
    "        l = loss.forward(p,y)\n",
    "        pred = np.argmax(p,axis=1)\n",
    "        acc = (pred==y).mean()\n",
    "        return l,acc\n",
    "                \n",
    "    def train_epoch(self, X_train, y_train, loss=CrossEntropyLoss(), batch_size=20, lr=0.0001):\n",
    "        for i in range(0,len(X_train),batch_size):\n",
    "            xb = X_train[i:i+batch_size]\n",
    "            yb = y_train[i:i+batch_size]\n",
    "\n",
    "            p = self.forward(xb)\n",
    "            l = loss.forward(p,yb)\n",
    "            dp = loss.backward(l)\n",
    "            dx = self.backward(dp)\n",
    "            self.update(lr)\n",
    "            \n",
    "    def train(self, n_ep, X_train, y_train, loss=CrossEntropyLoss(), batch_size=100, lr=0.0001):\n",
    "        l_dots = []\n",
    "        ac_dots = []\n",
    "        for i in range(n_ep):\n",
    "            self.train_epoch(X_train, y_train, loss=loss, batch_size=batch_size, lr=lr)\n",
    "            l, acc = self.get_loss_acc(X_train,y_train)\n",
    "            l_dots.append(l)\n",
    "            ac_dots.append(acc)\n",
    "            #print(\"loss={}, accuracy={}: \".format(l,acc))\n",
    "            \n",
    "        fig, (ax1, ax2) = plt.subplots(1,2)\n",
    "        ax1.plot(l_dots)\n",
    "        ax1.set_title('loss')\n",
    "        ax2.plot(ac_dots)\n",
    "        ax2.set_title('accuracy')"
   ]
  },
  {
   "cell_type": "markdown",
   "metadata": {},
   "source": [
    "Создаем и обучаем однослойный персептрон"
   ]
  },
  {
   "cell_type": "code",
   "execution_count": 19,
   "metadata": {},
   "outputs": [
    {
     "name": "stdout",
     "output_type": "stream",
     "text": [
      "loss=7.302955376246046, accuracy=0.8087775408670931: \n",
      "loss=5.464119697734153, accuracy=0.8379175550817342: \n",
      "loss=4.610831449283075, accuracy=0.8495380241648899: \n",
      "loss=4.051513722482921, accuracy=0.8579246624022744: \n",
      "loss=3.529504105839616, accuracy=0.8659559346126511: \n",
      "loss=3.233215567853068, accuracy=0.8700426439232409: \n",
      "loss=2.9406965376104894, accuracy=0.876226012793177: \n",
      "loss=2.685398498433134, accuracy=0.881272210376688: \n",
      "loss=2.51982448653255, accuracy=0.8852167732764747: \n",
      "loss=2.3764689123193623, accuracy=0.8861762615493959: \n"
     ]
    },
    {
     "data": {
      "image/png": "[encoded data removed]",
      "text/plain": [
       "<Figure size 432x288 with 2 Axes>"
      ]
     },
     "metadata": {
      "needs_background": "light"
     },
     "output_type": "display_data"
    }
   ],
   "source": [
    "net = Net()\n",
    "net.add(Linear(X_train.shape[1], 10))\n",
    "net.add(Softmax())\n",
    "loss = CrossEntropyLoss()\n",
    "ep_num = 10\n",
    "net.train(ep_num,X_train,y_train, lr=0.00007)"
   ]
  },
  {
   "cell_type": "markdown",
   "metadata": {},
   "source": [
    "Матрица ошибок"
   ]
  },
  {
   "cell_type": "code",
   "execution_count": 22,
   "metadata": {},
   "outputs": [
    {
     "data": {
      "text/plain": [
       "array([[2694,    0,   22,   14,    6,   16,   22,    4,   12,    9],\n",
       "       [   0, 3018,   59,   13,    3,    9,    7,    9,   36,   10],\n",
       "       [  21,   22, 2532,   34,   25,    7,   45,   34,   33,   10],\n",
       "       [  21,   17,  174, 2410,    6,  116,   19,   26,   42,   49],\n",
       "       [   6,   12,   26,    6, 2434,    6,   35,   18,   17,  154],\n",
       "       [  58,   28,   53,   99,   29, 2076,   92,   18,   98,   39],\n",
       "       [  18,    7,   30,    4,   21,   19, 2622,    3,   11,    5],\n",
       "       [  11,   15,   47,   17,   29,    3,    5, 2626,    9,  159],\n",
       "       [  42,   77,  195,   78,   22,  148,   47,   11, 2028,   81],\n",
       "       [  16,   20,    6,   41,  114,   22,    5,  100,   19, 2497]],\n",
       "      dtype=int64)"
      ]
     },
     "execution_count": 22,
     "metadata": {},
     "output_type": "execute_result"
    }
   ],
   "source": [
    "from sklearn.metrics import confusion_matrix\n",
    "p = net.forward(X_train)\n",
    "pred = np.argmax(p,axis=1)\n",
    "confusion_matrix(y_train, pred)"
   ]
  },
  {
   "cell_type": "markdown",
   "metadata": {},
   "source": [
    "Результаты на тестовой выборке"
   ]
  },
  {
   "cell_type": "code",
   "execution_count": 23,
   "metadata": {},
   "outputs": [
    {
     "name": "stdout",
     "output_type": "stream",
     "text": [
      "loss=3.2067520054072904, accuracy=0.8681096681096682: \n"
     ]
    }
   ],
   "source": [
    "print(\"loss={}, accuracy={}: \".format(*net.get_loss_acc(X_test,y_test)))"
   ]
  },
  {
   "cell_type": "markdown",
   "metadata": {},
   "source": [
    "Создаем и обучаем многослойный персептрон"
   ]
  },
  {
   "cell_type": "code",
   "execution_count": 26,
   "metadata": {},
   "outputs": [
    {
     "name": "stdout",
     "output_type": "stream",
     "text": [
      "loss=0.9638205022825378, accuracy=0.7484363894811656: \n",
      "loss=0.700832769039131, accuracy=0.8214641080312722: \n",
      "loss=0.585336723026069, accuracy=0.8520255863539445: \n",
      "loss=0.5130417123935385, accuracy=0.868230277185501: \n",
      "loss=0.4624741244751005, accuracy=0.8808813077469794: \n",
      "loss=0.4281798606775536, accuracy=0.887135749822317: \n",
      "loss=0.40541027834226745, accuracy=0.894136460554371: \n",
      "loss=0.3775209490862789, accuracy=0.9021677327647477: \n",
      "loss=0.35946677840149854, accuracy=0.9040867093105899: \n",
      "loss=0.3384374772456423, accuracy=0.9092750533049041: \n"
     ]
    },
    {
     "data": {
      "image/png": "[encoded data removed]",
      "text/plain": [
       "<Figure size 432x288 with 2 Axes>"
      ]
     },
     "metadata": {
      "needs_background": "light"
     },
     "output_type": "display_data"
    }
   ],
   "source": [
    "net = Net()\n",
    "net.add(Linear(X_train.shape[1],100))\n",
    "net.add(Tanh())\n",
    "net.add(Linear(100,10))\n",
    "net.add(Softmax())\n",
    "loss = CrossEntropyLoss()\n",
    "net.train(ep_num,X_train, y_train, lr=0.002)"
   ]
  },
  {
   "cell_type": "markdown",
   "metadata": {},
   "source": [
    "Матрица ошибок"
   ]
  },
  {
   "cell_type": "code",
   "execution_count": 27,
   "metadata": {},
   "outputs": [
    {
     "data": {
      "text/plain": [
       "array([[2697,    0,   14,    9,    3,   25,   20,    3,   25,    3],\n",
       "       [   0, 3069,   15,   14,    2,   15,    6,    7,   27,    9],\n",
       "       [  34,   18, 2432,   50,   39,    4,   60,   59,   49,   18],\n",
       "       [  13,   14,   78, 2563,    2,   83,   17,   31,   55,   24],\n",
       "       [   4,   14,   19,    3, 2516,    4,   33,    9,   13,   99],\n",
       "       [  50,    8,   18,  120,   27, 2215,   44,   19,   60,   29],\n",
       "       [  39,    7,   17,    1,   26,   35, 2604,    0,   11,    0],\n",
       "       [  18,   15,   65,   18,   31,    7,    2, 2676,    5,   84],\n",
       "       [  21,   37,   42,  116,   11,   82,   21,   18, 2332,   49],\n",
       "       [  30,    7,   12,   37,  120,   24,    1,   91,   35, 2483]],\n",
       "      dtype=int64)"
      ]
     },
     "execution_count": 27,
     "metadata": {},
     "output_type": "execute_result"
    }
   ],
   "source": [
    "p = net.forward(X_train)\n",
    "pred = np.argmax(p,axis=1)\n",
    "confusion_matrix(y_train, pred)"
   ]
  },
  {
   "cell_type": "markdown",
   "metadata": {},
   "source": [
    "Результаты на тестовой выборке"
   ]
  },
  {
   "cell_type": "code",
   "execution_count": 28,
   "metadata": {},
   "outputs": [
    {
     "name": "stdout",
     "output_type": "stream",
     "text": [
      "loss=0.3751460575486384, accuracy=0.8974747474747474: \n"
     ]
    }
   ],
   "source": [
    "print(\"loss={}, accuracy={}: \".format(*net.get_loss_acc(X_test,y_test)))"
   ]
  },
  {
   "cell_type": "markdown",
   "metadata": {},
   "source": [
    "Посмотрим, как на обучение влияет число нейронов в промежуточных сетях. Возьмем двухслойные сети с разными размерами промежуточных сетей."
   ]
  },
  {
   "cell_type": "code",
   "execution_count": 31,
   "metadata": {},
   "outputs": [
    {
     "data": {
      "image/png": "[encoded data removed]",
      "text/plain": [
       "<Figure size 432x288 with 2 Axes>"
      ]
     },
     "metadata": {
      "needs_background": "light"
     },
     "output_type": "display_data"
    },
    {
     "data": {
      "image/png": "[encoded data removed]",
      "text/plain": [
       "<Figure size 432x288 with 2 Axes>"
      ]
     },
     "metadata": {
      "needs_background": "light"
     },
     "output_type": "display_data"
    },
    {
     "data": {
      "image/png": "[encoded data removed]",
      "text/plain": [
       "<Figure size 432x288 with 2 Axes>"
      ]
     },
     "metadata": {
      "needs_background": "light"
     },
     "output_type": "display_data"
    }
   ],
   "source": [
    "net1 = Net()\n",
    "net1.add(Linear(X_train.shape[1],10))\n",
    "net1.add(Tanh())\n",
    "net1.add(Linear(10,10))\n",
    "net1.add(Softmax())\n",
    "loss = CrossEntropyLoss()\n",
    "net1.train(ep_num,X_train, y_train, lr=0.001)\n",
    "\n",
    "net2 = Net()\n",
    "net2.add(Linear(X_train.shape[1],100))\n",
    "net2.add(Tanh())\n",
    "net2.add(Linear(100,10))\n",
    "net2.add(Softmax())\n",
    "net2.train(ep_num,X_train, y_train, lr=0.001)\n",
    "\n",
    "net3 = Net()\n",
    "net3.add(Linear(X_train.shape[1],1000))\n",
    "net3.add(Tanh())\n",
    "net3.add(Linear(1000,10))\n",
    "net3.add(Softmax())\n",
    "net3.train(ep_num,X_train, y_train, lr=0.001)"
   ]
  },
  {
   "cell_type": "markdown",
   "metadata": {},
   "source": [
    "Чем больше число нейронов в промежуточных сетях, тем лучше проходит обучение и тем лучше финальная точность."
   ]
  }
 ],
 "metadata": {
  "kernelspec": {
   "display_name": "Python 3",
   "language": "python",
   "name": "python3"
  },
  "language_info": {
   "codemirror_mode": {
    "name": "ipython",
    "version": 3
   },
   "file_extension": ".py",
   "mimetype": "text/x-python",
   "name": "python",
   "nbconvert_exporter": "python",
   "pygments_lexer": "ipython3",
   "version": "3.8.5"
  }
 },
 "nbformat": 4,
 "nbformat_minor": 2
}
